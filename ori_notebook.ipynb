{
 "cells": [
  {
   "cell_type": "markdown",
   "metadata": {},
   "source": [
    "# Projekat iz predmeta Osnovi Računarske Inteligencije"
   ]
  },
  {
   "cell_type": "markdown",
   "metadata": {},
   "source": [
    "#### Problem koji se rešava je predikcija potrošnje automobila, odnosno predikcija mpg(miles per gallon) na osnovu sledećih atributa:\n",
    "    1. Broj cilindara\n",
    "    2. Prenos\n",
    "    3. Broj konjskih snaga\n",
    "    4. Težina\n",
    "    5. Ubrzanje\n",
    "    6. Godina proizvodnje\n",
    "    7. Poreklo (1 - Amerika, 2 - Evropa, 3 - Azija)\n",
    "    8. Naziv automobila\n",
    "    \n",
    "#### Dataset: https://www.kaggle.com/uciml/autompg-dataset\n",
    "\n",
    "#### Broj instanci: 398\n",
    "\n",
    "#### Broj atributa: 9\n",
    "\n",
    "### Algoritmi koji su korišćeni:\n",
    "#####    1. Multivariate Linear Regression\n",
    "      Regresija ima za cilj da pronađe funkciju koja se “najbolje uklapa” u podatke uz\n",
    "      pretpostavku da rezultujuća funkcija ne mora da prođe kroz svaku tačku.\n",
    "#####    2. Ridge Regression \n",
    "      Varijacija obične regresije. Korisna ukoliko dataset sadrži outlier-e, koji kvare model.\n",
    "      Problem rešava dodavanjem kvadrirane norme težina na funkciju greške.\n",
    "#####    3. Lasso Regression \n",
    "      Varijacija obične regresije. Korisna ukoliko dataset ima mali broj nezavisnih promenljivih,\n",
    "      ali velik broj tačaka. Problem rešava dodavanjem norme težina na funkciju greške.\n",
    "#####    4. ElasticNet Regression\n",
    "      Predstavlja kombinaciju Ridge i Lasso regresije."
   ]
  },
  {
   "cell_type": "markdown",
   "metadata": {},
   "source": [
    "$$ \\textbf{Multivariate Linear Regression: } $$\n",
    "\n",
    "$$ \\textbf{Error function:} \\ E = \\sum_{i=1}^{N} (y_{i} - \\hat{y_{i}})^{2} =  \\sum_{i=1}^{N} (y_{i} - w^\\top x_{i})^{2},\\ y_{i} - stvarna \\ vrednost, \\ \\hat{y_{i}} - predikcija $$\n",
    "\n",
    "$$ \\frac{\\partial E}{\\partial w_{j}} = \\sum_{i=1}^N 2(y_{i} - w^\\top x_{i})(-x_{ij}) = 0, \\ i - red, \\ j - kolona(nezavisna \\ promenljiva) $$\n",
    "\n",
    "$$ w^\\top \\sum_{i=1}^N x_{i}x_{ij} = \\sum_{i=1}^N y_{i}x_{ij} $$\n",
    "\n",
    "$$ w^\\top(X^\\top X) = y^\\top X $$\n",
    "\n",
    "$$ \\bigg[w^\\top(X^\\top X)\\bigg]^\\top = \\bigg[y^\\top X\\bigg]^\\top$$\n",
    "\n",
    "$$ (X^\\top X)w = X^\\top y$$\n",
    "\n",
    "$$ w = (X^\\top X)^{-1}X^\\top y $$"
   ]
  },
  {
   "cell_type": "markdown",
   "metadata": {},
   "source": [
    "$$ \\textbf{Ridge Regression: } $$\n",
    "\n",
    "$$ \\textbf{Error function:} \\ E = \\sum_{i=1}^{N} (y_{i} - \\hat{y_{i}})^{2} + \\lambda \\ |w|^{2},\\ y_{i} - stvarna \\ vrednost, \\ \\hat{y_{i}} - predikcija $$\n",
    "\n",
    "$$ |w|^{2} = w^\\top w = w_{1}^{2} + w_{2}^{2} + ... + w_{i}^{2}, \\ w - vektor \\ težina, \\ \\lambda - proizvoljan \\ parametar $$\n",
    "\n",
    "$$ \\textbf{Matrix form of Error function}: $$\n",
    "\n",
    "$$ E = (y - Xw)^\\top (y - Xw) + \\lambda w^\\top w $$\n",
    "\n",
    "$$ E = y^\\top y - 2y^\\top Xw + w^\\top X^\\top Xw + \\lambda w^\\top w $$\n",
    "\n",
    "$$ \\frac{\\partial E}{\\partial w} = -2X^\\top y + 2X^\\top Xw + 2 \\lambda w = 0 $$\n",
    "\n",
    "$$ w = (\\lambda I + X^\\top X)^{-1}X^\\top y $$"
   ]
  },
  {
   "cell_type": "markdown",
   "metadata": {},
   "source": [
    "$$ \\textbf{Lasso Regression: } $$\n",
    "\n",
    "$$ \\textbf{Error function:} \\ E = \\sum_{i=1}^{N} (y_{i} - \\hat{y_{i}})^{2} + \\lambda \\ |w|,\\ y_{i} - stvarna \\ vrednost, \\ \\hat{y_{i}} - predikcija $$\n",
    "\n",
    "$$ \\textbf{Matrix form of Error function}: $$\n",
    "\n",
    "$$ E = (y - Xw)^\\top (y - Xw) + \\lambda w$$\n",
    "\n",
    "$$ E = y^\\top y - 2y^\\top Xw + w^\\top X^\\top Xw + \\lambda |w| $$\n",
    "$$ \\frac{\\partial E}{\\partial w} = -2X^\\top y + 2X^\\top Xw + \\lambda sign(w) = 0 $$\n",
    "\n",
    "$$ sign(x) = \n",
    "     \\begin{cases}\n",
    "        1 &\\quad\\text{if x > 0} \\\\\n",
    "       -1 &\\quad\\text{if x < 0}\\\\\n",
    "        0 &\\quad\\text{if x = 0}\\\\\n",
    "     \\end{cases} $$\n",
    "     \n",
    "$$ \\text{Iz prethodne formule w ne može da se izrazi, pa se ovaj problem rešava Gradient Descent algoritmom} $$"
   ]
  },
  {
   "cell_type": "markdown",
   "metadata": {},
   "source": [
    "$$ \\textbf{ElasticNet Regression: } $$\n",
    "\n",
    "$$ \\textbf{Error function:} \\ E = \\sum_{i=1}^{N} (y_{i} - \\hat{y_{i}})^{2} + \\lambda \\ |w| + \\lambda |w|^{2},\\ y_{i} - stvarna \\ vrednost, \\ \\hat{y_{i}} - predikcija $$\n",
    "\n",
    "$$ |w|^{2} = w^\\top w = w_{1}^{2} + w_{2}^{2} + ... + w_{i}^{2}, \\ w - vektor \\ težina, \\ \\lambda - proizvoljan \\ parametar $$"
   ]
  },
  {
   "cell_type": "markdown",
   "metadata": {},
   "source": [
    "$$\\text{Predikcija se u svakom od prethodnih modela dobija sledećom formulom} $$\n",
    "\n",
    "\n",
    "$$\\textbf{Regression model: } \\hat{y} = w^\\top X, \\ \\hat{y} - vektor \\ predikcija, \\ w - težine $$"
   ]
  },
  {
   "cell_type": "markdown",
   "metadata": {},
   "source": [
    "### Za evaluaciju modela korišćene su sledeće metrike:\n",
    "    1. Coefficient of determination (R Squared) - najbolji mogući rezultat je 1.0, može biti i negativan\n",
    "    2. Mean Absolute Error - što je manja vrednost, model je bolji\n",
    "    3. Explained Variance Score - najbolji mogući rezultat je 1.0, što je manji model je lošiji"
   ]
  },
  {
   "cell_type": "code",
   "execution_count": 1,
   "metadata": {},
   "outputs": [],
   "source": [
    "import pandas as pd\n",
    "import numpy as np\n",
    "import matplotlib.pyplot as plt\n",
    "import seaborn as sns\n",
    "import warnings\n",
    "warnings.filterwarnings(\"ignore\")\n",
    "%matplotlib inline\n"
   ]
  },
  {
   "cell_type": "code",
   "execution_count": 2,
   "metadata": {},
   "outputs": [],
   "source": [
    "df = pd.read_csv('auto-mpg.csv')"
   ]
  },
  {
   "cell_type": "code",
   "execution_count": 3,
   "metadata": {},
   "outputs": [
    {
     "data": {
      "text/html": [
       "<div>\n",
       "<style scoped>\n",
       "    .dataframe tbody tr th:only-of-type {\n",
       "        vertical-align: middle;\n",
       "    }\n",
       "\n",
       "    .dataframe tbody tr th {\n",
       "        vertical-align: top;\n",
       "    }\n",
       "\n",
       "    .dataframe thead th {\n",
       "        text-align: right;\n",
       "    }\n",
       "</style>\n",
       "<table border=\"1\" class=\"dataframe\">\n",
       "  <thead>\n",
       "    <tr style=\"text-align: right;\">\n",
       "      <th></th>\n",
       "      <th>mpg</th>\n",
       "      <th>cylinders</th>\n",
       "      <th>displacement</th>\n",
       "      <th>horsepower</th>\n",
       "      <th>weight</th>\n",
       "      <th>acceleration</th>\n",
       "      <th>model year</th>\n",
       "      <th>origin</th>\n",
       "      <th>car name</th>\n",
       "    </tr>\n",
       "  </thead>\n",
       "  <tbody>\n",
       "    <tr>\n",
       "      <th>0</th>\n",
       "      <td>18.0</td>\n",
       "      <td>8</td>\n",
       "      <td>307.0</td>\n",
       "      <td>130</td>\n",
       "      <td>3504</td>\n",
       "      <td>12.0</td>\n",
       "      <td>70</td>\n",
       "      <td>1</td>\n",
       "      <td>chevrolet chevelle malibu</td>\n",
       "    </tr>\n",
       "    <tr>\n",
       "      <th>1</th>\n",
       "      <td>15.0</td>\n",
       "      <td>8</td>\n",
       "      <td>350.0</td>\n",
       "      <td>165</td>\n",
       "      <td>3693</td>\n",
       "      <td>11.5</td>\n",
       "      <td>70</td>\n",
       "      <td>1</td>\n",
       "      <td>buick skylark 320</td>\n",
       "    </tr>\n",
       "    <tr>\n",
       "      <th>2</th>\n",
       "      <td>18.0</td>\n",
       "      <td>8</td>\n",
       "      <td>318.0</td>\n",
       "      <td>150</td>\n",
       "      <td>3436</td>\n",
       "      <td>11.0</td>\n",
       "      <td>70</td>\n",
       "      <td>1</td>\n",
       "      <td>plymouth satellite</td>\n",
       "    </tr>\n",
       "    <tr>\n",
       "      <th>3</th>\n",
       "      <td>16.0</td>\n",
       "      <td>8</td>\n",
       "      <td>304.0</td>\n",
       "      <td>150</td>\n",
       "      <td>3433</td>\n",
       "      <td>12.0</td>\n",
       "      <td>70</td>\n",
       "      <td>1</td>\n",
       "      <td>amc rebel sst</td>\n",
       "    </tr>\n",
       "    <tr>\n",
       "      <th>4</th>\n",
       "      <td>17.0</td>\n",
       "      <td>8</td>\n",
       "      <td>302.0</td>\n",
       "      <td>140</td>\n",
       "      <td>3449</td>\n",
       "      <td>10.5</td>\n",
       "      <td>70</td>\n",
       "      <td>1</td>\n",
       "      <td>ford torino</td>\n",
       "    </tr>\n",
       "  </tbody>\n",
       "</table>\n",
       "</div>"
      ],
      "text/plain": [
       "    mpg  cylinders  displacement horsepower  weight  acceleration  model year  \\\n",
       "0  18.0          8         307.0        130    3504          12.0          70   \n",
       "1  15.0          8         350.0        165    3693          11.5          70   \n",
       "2  18.0          8         318.0        150    3436          11.0          70   \n",
       "3  16.0          8         304.0        150    3433          12.0          70   \n",
       "4  17.0          8         302.0        140    3449          10.5          70   \n",
       "\n",
       "   origin                   car name  \n",
       "0       1  chevrolet chevelle malibu  \n",
       "1       1          buick skylark 320  \n",
       "2       1         plymouth satellite  \n",
       "3       1              amc rebel sst  \n",
       "4       1                ford torino  "
      ]
     },
     "execution_count": 3,
     "metadata": {},
     "output_type": "execute_result"
    }
   ],
   "source": [
    "df.head()"
   ]
  },
  {
   "cell_type": "markdown",
   "metadata": {},
   "source": [
    "Za dalju analizu zanemariću naziv automobila, a iz tabele dole se vidi da fali horsepower kolona"
   ]
  },
  {
   "cell_type": "code",
   "execution_count": 4,
   "metadata": {},
   "outputs": [
    {
     "data": {
      "text/html": [
       "<div>\n",
       "<style scoped>\n",
       "    .dataframe tbody tr th:only-of-type {\n",
       "        vertical-align: middle;\n",
       "    }\n",
       "\n",
       "    .dataframe tbody tr th {\n",
       "        vertical-align: top;\n",
       "    }\n",
       "\n",
       "    .dataframe thead th {\n",
       "        text-align: right;\n",
       "    }\n",
       "</style>\n",
       "<table border=\"1\" class=\"dataframe\">\n",
       "  <thead>\n",
       "    <tr style=\"text-align: right;\">\n",
       "      <th></th>\n",
       "      <th>mpg</th>\n",
       "      <th>cylinders</th>\n",
       "      <th>displacement</th>\n",
       "      <th>weight</th>\n",
       "      <th>acceleration</th>\n",
       "      <th>model year</th>\n",
       "      <th>origin</th>\n",
       "    </tr>\n",
       "  </thead>\n",
       "  <tbody>\n",
       "    <tr>\n",
       "      <th>count</th>\n",
       "      <td>398.000000</td>\n",
       "      <td>398.000000</td>\n",
       "      <td>398.000000</td>\n",
       "      <td>398.000000</td>\n",
       "      <td>398.000000</td>\n",
       "      <td>398.000000</td>\n",
       "      <td>398.000000</td>\n",
       "    </tr>\n",
       "    <tr>\n",
       "      <th>mean</th>\n",
       "      <td>23.514573</td>\n",
       "      <td>5.454774</td>\n",
       "      <td>193.425879</td>\n",
       "      <td>2970.424623</td>\n",
       "      <td>15.568090</td>\n",
       "      <td>76.010050</td>\n",
       "      <td>1.572864</td>\n",
       "    </tr>\n",
       "    <tr>\n",
       "      <th>std</th>\n",
       "      <td>7.815984</td>\n",
       "      <td>1.701004</td>\n",
       "      <td>104.269838</td>\n",
       "      <td>846.841774</td>\n",
       "      <td>2.757689</td>\n",
       "      <td>3.697627</td>\n",
       "      <td>0.802055</td>\n",
       "    </tr>\n",
       "    <tr>\n",
       "      <th>min</th>\n",
       "      <td>9.000000</td>\n",
       "      <td>3.000000</td>\n",
       "      <td>68.000000</td>\n",
       "      <td>1613.000000</td>\n",
       "      <td>8.000000</td>\n",
       "      <td>70.000000</td>\n",
       "      <td>1.000000</td>\n",
       "    </tr>\n",
       "    <tr>\n",
       "      <th>25%</th>\n",
       "      <td>17.500000</td>\n",
       "      <td>4.000000</td>\n",
       "      <td>104.250000</td>\n",
       "      <td>2223.750000</td>\n",
       "      <td>13.825000</td>\n",
       "      <td>73.000000</td>\n",
       "      <td>1.000000</td>\n",
       "    </tr>\n",
       "    <tr>\n",
       "      <th>50%</th>\n",
       "      <td>23.000000</td>\n",
       "      <td>4.000000</td>\n",
       "      <td>148.500000</td>\n",
       "      <td>2803.500000</td>\n",
       "      <td>15.500000</td>\n",
       "      <td>76.000000</td>\n",
       "      <td>1.000000</td>\n",
       "    </tr>\n",
       "    <tr>\n",
       "      <th>75%</th>\n",
       "      <td>29.000000</td>\n",
       "      <td>8.000000</td>\n",
       "      <td>262.000000</td>\n",
       "      <td>3608.000000</td>\n",
       "      <td>17.175000</td>\n",
       "      <td>79.000000</td>\n",
       "      <td>2.000000</td>\n",
       "    </tr>\n",
       "    <tr>\n",
       "      <th>max</th>\n",
       "      <td>46.600000</td>\n",
       "      <td>8.000000</td>\n",
       "      <td>455.000000</td>\n",
       "      <td>5140.000000</td>\n",
       "      <td>24.800000</td>\n",
       "      <td>82.000000</td>\n",
       "      <td>3.000000</td>\n",
       "    </tr>\n",
       "  </tbody>\n",
       "</table>\n",
       "</div>"
      ],
      "text/plain": [
       "              mpg   cylinders  displacement       weight  acceleration  \\\n",
       "count  398.000000  398.000000    398.000000   398.000000    398.000000   \n",
       "mean    23.514573    5.454774    193.425879  2970.424623     15.568090   \n",
       "std      7.815984    1.701004    104.269838   846.841774      2.757689   \n",
       "min      9.000000    3.000000     68.000000  1613.000000      8.000000   \n",
       "25%     17.500000    4.000000    104.250000  2223.750000     13.825000   \n",
       "50%     23.000000    4.000000    148.500000  2803.500000     15.500000   \n",
       "75%     29.000000    8.000000    262.000000  3608.000000     17.175000   \n",
       "max     46.600000    8.000000    455.000000  5140.000000     24.800000   \n",
       "\n",
       "       model year      origin  \n",
       "count  398.000000  398.000000  \n",
       "mean    76.010050    1.572864  \n",
       "std      3.697627    0.802055  \n",
       "min     70.000000    1.000000  \n",
       "25%     73.000000    1.000000  \n",
       "50%     76.000000    1.000000  \n",
       "75%     79.000000    2.000000  \n",
       "max     82.000000    3.000000  "
      ]
     },
     "execution_count": 4,
     "metadata": {},
     "output_type": "execute_result"
    }
   ],
   "source": [
    "df.describe()"
   ]
  },
  {
   "cell_type": "markdown",
   "metadata": {},
   "source": [
    "Vrednosti u horsepower koloni su stringovi pa ih treba konvertovati u broj"
   ]
  },
  {
   "cell_type": "code",
   "execution_count": 5,
   "metadata": {},
   "outputs": [
    {
     "data": {
      "text/plain": [
       "str"
      ]
     },
     "execution_count": 5,
     "metadata": {},
     "output_type": "execute_result"
    }
   ],
   "source": [
    "type(df.horsepower[0])"
   ]
  },
  {
   "cell_type": "code",
   "execution_count": 6,
   "metadata": {},
   "outputs": [],
   "source": [
    "df = df[df.horsepower != '?']\n",
    "df.horsepower = df.horsepower.astype('float64')"
   ]
  },
  {
   "cell_type": "code",
   "execution_count": 7,
   "metadata": {},
   "outputs": [
    {
     "data": {
      "text/plain": [
       "mpg             0\n",
       "cylinders       0\n",
       "displacement    0\n",
       "horsepower      0\n",
       "weight          0\n",
       "acceleration    0\n",
       "model year      0\n",
       "origin          0\n",
       "car name        0\n",
       "dtype: int64"
      ]
     },
     "execution_count": 7,
     "metadata": {},
     "output_type": "execute_result"
    }
   ],
   "source": [
    "df.isnull().sum()"
   ]
  },
  {
   "cell_type": "code",
   "execution_count": 8,
   "metadata": {},
   "outputs": [
    {
     "data": {
      "text/html": [
       "<div>\n",
       "<style scoped>\n",
       "    .dataframe tbody tr th:only-of-type {\n",
       "        vertical-align: middle;\n",
       "    }\n",
       "\n",
       "    .dataframe tbody tr th {\n",
       "        vertical-align: top;\n",
       "    }\n",
       "\n",
       "    .dataframe thead th {\n",
       "        text-align: right;\n",
       "    }\n",
       "</style>\n",
       "<table border=\"1\" class=\"dataframe\">\n",
       "  <thead>\n",
       "    <tr style=\"text-align: right;\">\n",
       "      <th></th>\n",
       "      <th>mpg</th>\n",
       "      <th>cylinders</th>\n",
       "      <th>displacement</th>\n",
       "      <th>horsepower</th>\n",
       "      <th>weight</th>\n",
       "      <th>acceleration</th>\n",
       "      <th>model year</th>\n",
       "      <th>origin</th>\n",
       "    </tr>\n",
       "  </thead>\n",
       "  <tbody>\n",
       "    <tr>\n",
       "      <th>count</th>\n",
       "      <td>392.000000</td>\n",
       "      <td>392.000000</td>\n",
       "      <td>392.000000</td>\n",
       "      <td>392.000000</td>\n",
       "      <td>392.000000</td>\n",
       "      <td>392.000000</td>\n",
       "      <td>392.000000</td>\n",
       "      <td>392.000000</td>\n",
       "    </tr>\n",
       "    <tr>\n",
       "      <th>mean</th>\n",
       "      <td>23.445918</td>\n",
       "      <td>5.471939</td>\n",
       "      <td>194.411990</td>\n",
       "      <td>104.469388</td>\n",
       "      <td>2977.584184</td>\n",
       "      <td>15.541327</td>\n",
       "      <td>75.979592</td>\n",
       "      <td>1.576531</td>\n",
       "    </tr>\n",
       "    <tr>\n",
       "      <th>std</th>\n",
       "      <td>7.805007</td>\n",
       "      <td>1.705783</td>\n",
       "      <td>104.644004</td>\n",
       "      <td>38.491160</td>\n",
       "      <td>849.402560</td>\n",
       "      <td>2.758864</td>\n",
       "      <td>3.683737</td>\n",
       "      <td>0.805518</td>\n",
       "    </tr>\n",
       "    <tr>\n",
       "      <th>min</th>\n",
       "      <td>9.000000</td>\n",
       "      <td>3.000000</td>\n",
       "      <td>68.000000</td>\n",
       "      <td>46.000000</td>\n",
       "      <td>1613.000000</td>\n",
       "      <td>8.000000</td>\n",
       "      <td>70.000000</td>\n",
       "      <td>1.000000</td>\n",
       "    </tr>\n",
       "    <tr>\n",
       "      <th>25%</th>\n",
       "      <td>17.000000</td>\n",
       "      <td>4.000000</td>\n",
       "      <td>105.000000</td>\n",
       "      <td>75.000000</td>\n",
       "      <td>2225.250000</td>\n",
       "      <td>13.775000</td>\n",
       "      <td>73.000000</td>\n",
       "      <td>1.000000</td>\n",
       "    </tr>\n",
       "    <tr>\n",
       "      <th>50%</th>\n",
       "      <td>22.750000</td>\n",
       "      <td>4.000000</td>\n",
       "      <td>151.000000</td>\n",
       "      <td>93.500000</td>\n",
       "      <td>2803.500000</td>\n",
       "      <td>15.500000</td>\n",
       "      <td>76.000000</td>\n",
       "      <td>1.000000</td>\n",
       "    </tr>\n",
       "    <tr>\n",
       "      <th>75%</th>\n",
       "      <td>29.000000</td>\n",
       "      <td>8.000000</td>\n",
       "      <td>275.750000</td>\n",
       "      <td>126.000000</td>\n",
       "      <td>3614.750000</td>\n",
       "      <td>17.025000</td>\n",
       "      <td>79.000000</td>\n",
       "      <td>2.000000</td>\n",
       "    </tr>\n",
       "    <tr>\n",
       "      <th>max</th>\n",
       "      <td>46.600000</td>\n",
       "      <td>8.000000</td>\n",
       "      <td>455.000000</td>\n",
       "      <td>230.000000</td>\n",
       "      <td>5140.000000</td>\n",
       "      <td>24.800000</td>\n",
       "      <td>82.000000</td>\n",
       "      <td>3.000000</td>\n",
       "    </tr>\n",
       "  </tbody>\n",
       "</table>\n",
       "</div>"
      ],
      "text/plain": [
       "              mpg   cylinders  displacement  horsepower       weight  \\\n",
       "count  392.000000  392.000000    392.000000  392.000000   392.000000   \n",
       "mean    23.445918    5.471939    194.411990  104.469388  2977.584184   \n",
       "std      7.805007    1.705783    104.644004   38.491160   849.402560   \n",
       "min      9.000000    3.000000     68.000000   46.000000  1613.000000   \n",
       "25%     17.000000    4.000000    105.000000   75.000000  2225.250000   \n",
       "50%     22.750000    4.000000    151.000000   93.500000  2803.500000   \n",
       "75%     29.000000    8.000000    275.750000  126.000000  3614.750000   \n",
       "max     46.600000    8.000000    455.000000  230.000000  5140.000000   \n",
       "\n",
       "       acceleration  model year      origin  \n",
       "count    392.000000  392.000000  392.000000  \n",
       "mean      15.541327   75.979592    1.576531  \n",
       "std        2.758864    3.683737    0.805518  \n",
       "min        8.000000   70.000000    1.000000  \n",
       "25%       13.775000   73.000000    1.000000  \n",
       "50%       15.500000   76.000000    1.000000  \n",
       "75%       17.025000   79.000000    2.000000  \n",
       "max       24.800000   82.000000    3.000000  "
      ]
     },
     "execution_count": 8,
     "metadata": {},
     "output_type": "execute_result"
    }
   ],
   "source": [
    "df.describe()"
   ]
  },
  {
   "cell_type": "markdown",
   "metadata": {},
   "source": [
    "### Vizualizacija"
   ]
  },
  {
   "cell_type": "code",
   "execution_count": 80,
   "metadata": {},
   "outputs": [
    {
     "name": "stdout",
     "output_type": "stream",
     "text": [
      "Vizualizacija matrice korelacije\n",
      "\n"
     ]
    },
    {
     "data": {
      "image/png": "[encoded data removed]",
      "text/plain": [
       "<Figure size 842.4x595.44 with 2 Axes>"
      ]
     },
     "metadata": {},
     "output_type": "display_data"
    }
   ],
   "source": [
    "correlation = df.corr(method = 'pearson')\n",
    "\n",
    "dims = (11.7, 8.27)\n",
    "fig, ax = plt.subplots(figsize = dims)\n",
    "\n",
    "sns.heatmap(ax = ax, data = correlation, xticklabels=correlation.columns, yticklabels=correlation.columns)\n",
    "print('Vizualizacija matrice korelacije\\n')"
   ]
  },
  {
   "cell_type": "code",
   "execution_count": 81,
   "metadata": {},
   "outputs": [
    {
     "name": "stdout",
     "output_type": "stream",
     "text": [
      "\n"
     ]
    },
    {
     "data": {
      "image/png": "[encoded data removed]",
      "text/plain": [
       "<Figure size 576x432 with 1 Axes>"
      ]
     },
     "metadata": {},
     "output_type": "display_data"
    }
   ],
   "source": [
    "dims = (8, 6)\n",
    "fig, ax = plt.subplots(figsize = dims)\n",
    "sns.boxplot(ax=ax, data = df[['mpg', 'cylinders']], orient=\"h\", palette=\"Set1\")\n",
    "print()"
   ]
  },
  {
   "cell_type": "code",
   "execution_count": 82,
   "metadata": {},
   "outputs": [
    {
     "name": "stdout",
     "output_type": "stream",
     "text": [
      "\n"
     ]
    },
    {
     "data": {
      "image/png": "[encoded data removed]",
      "text/plain": [
       "<Figure size 576x432 with 1 Axes>"
      ]
     },
     "metadata": {},
     "output_type": "display_data"
    }
   ],
   "source": [
    "dims = (8, 6)\n",
    "fig, ax = plt.subplots(figsize = dims)\n",
    "sns.boxplot(ax=ax, data = df[['mpg', 'displacement']], orient=\"h\", palette=\"Set1\")\n",
    "print()"
   ]
  },
  {
   "cell_type": "code",
   "execution_count": 83,
   "metadata": {},
   "outputs": [
    {
     "name": "stdout",
     "output_type": "stream",
     "text": [
      "\n"
     ]
    },
    {
     "data": {
      "image/png": "[encoded data removed]",
      "text/plain": [
       "<Figure size 576x432 with 1 Axes>"
      ]
     },
     "metadata": {},
     "output_type": "display_data"
    }
   ],
   "source": [
    "dims = (8, 6)\n",
    "fig, ax = plt.subplots(figsize = dims)\n",
    "sns.boxplot(ax=ax, data = df[['mpg', 'horsepower']], orient=\"h\", palette=\"Set1\")\n",
    "print()"
   ]
  },
  {
   "cell_type": "code",
   "execution_count": 84,
   "metadata": {},
   "outputs": [
    {
     "name": "stdout",
     "output_type": "stream",
     "text": [
      "\n"
     ]
    },
    {
     "data": {
      "image/png": "[encoded data removed]",
      "text/plain": [
       "<Figure size 576x432 with 1 Axes>"
      ]
     },
     "metadata": {},
     "output_type": "display_data"
    }
   ],
   "source": [
    "dims = (8, 6)\n",
    "fig, ax = plt.subplots(figsize = dims)\n",
    "sns.boxplot(ax=ax, data = df[['mpg', 'weight']], orient=\"h\", palette=\"Set1\")\n",
    "print()"
   ]
  },
  {
   "cell_type": "code",
   "execution_count": 85,
   "metadata": {},
   "outputs": [
    {
     "name": "stdout",
     "output_type": "stream",
     "text": [
      "\n"
     ]
    },
    {
     "data": {
      "image/png": "[encoded data removed]",
      "text/plain": [
       "<Figure size 576x432 with 1 Axes>"
      ]
     },
     "metadata": {},
     "output_type": "display_data"
    }
   ],
   "source": [
    "dims = (8, 6)\n",
    "fig, ax = plt.subplots(figsize = dims)\n",
    "sns.boxplot(ax=ax, data = df[['mpg', 'acceleration']], orient=\"h\", palette=\"Set1\")\n",
    "print()"
   ]
  },
  {
   "cell_type": "code",
   "execution_count": 87,
   "metadata": {},
   "outputs": [
    {
     "name": "stdout",
     "output_type": "stream",
     "text": [
      "\n"
     ]
    },
    {
     "data": {
      "image/png": "[encoded data removed]",
      "text/plain": [
       "<Figure size 576x432 with 1 Axes>"
      ]
     },
     "metadata": {},
     "output_type": "display_data"
    }
   ],
   "source": [
    "dims = (8, 6)\n",
    "fig, ax = plt.subplots(figsize = dims)\n",
    "sns.boxplot(ax=ax, data = df[['mpg', 'model year']], orient=\"h\", palette=\"Set1\")\n",
    "print()"
   ]
  },
  {
   "cell_type": "code",
   "execution_count": 10,
   "metadata": {},
   "outputs": [
    {
     "name": "stdout",
     "output_type": "stream",
     "text": [
      "MPG Histogram\n"
     ]
    },
    {
     "data": {
      "image/png": "[encoded data removed]",
      "text/plain": [
       "<Figure size 432x288 with 1 Axes>"
      ]
     },
     "metadata": {},
     "output_type": "display_data"
    }
   ],
   "source": [
    "sns.distplot(df.iloc[:, 0].values)\n",
    "print('MPG Histogram')"
   ]
  },
  {
   "cell_type": "code",
   "execution_count": 11,
   "metadata": {},
   "outputs": [
    {
     "name": "stdout",
     "output_type": "stream",
     "text": [
      "Cylinders Histogram\n"
     ]
    },
    {
     "data": {
      "image/png": "[encoded data removed]",
      "text/plain": [
       "<Figure size 432x288 with 1 Axes>"
      ]
     },
     "metadata": {},
     "output_type": "display_data"
    }
   ],
   "source": [
    "sns.distplot(df.iloc[:, 1].values)\n",
    "print('Cylinders Histogram')"
   ]
  },
  {
   "cell_type": "code",
   "execution_count": 12,
   "metadata": {},
   "outputs": [
    {
     "name": "stdout",
     "output_type": "stream",
     "text": [
      "Displacement Histogram\n"
     ]
    },
    {
     "data": {
      "image/png": "[encoded data removed]",
      "text/plain": [
       "<Figure size 432x288 with 1 Axes>"
      ]
     },
     "metadata": {},
     "output_type": "display_data"
    }
   ],
   "source": [
    "sns.distplot(df.iloc[:, 2].values)\n",
    "print('Displacement Histogram')"
   ]
  },
  {
   "cell_type": "code",
   "execution_count": 13,
   "metadata": {},
   "outputs": [
    {
     "name": "stdout",
     "output_type": "stream",
     "text": [
      "Horsepower Histogram\n"
     ]
    },
    {
     "data": {
      "image/png": "[encoded data removed]",
      "text/plain": [
       "<Figure size 432x288 with 1 Axes>"
      ]
     },
     "metadata": {},
     "output_type": "display_data"
    }
   ],
   "source": [
    "sns.distplot(df.iloc[:, 3].values)\n",
    "print('Horsepower Histogram')"
   ]
  },
  {
   "cell_type": "code",
   "execution_count": 14,
   "metadata": {},
   "outputs": [
    {
     "name": "stdout",
     "output_type": "stream",
     "text": [
      "Weight Histogram\n"
     ]
    },
    {
     "data": {
      "image/png": "[encoded data removed]",
      "text/plain": [
       "<Figure size 432x288 with 1 Axes>"
      ]
     },
     "metadata": {},
     "output_type": "display_data"
    }
   ],
   "source": [
    "sns.distplot(df.iloc[:, 4].values)\n",
    "print('Weight Histogram')"
   ]
  },
  {
   "cell_type": "code",
   "execution_count": 15,
   "metadata": {},
   "outputs": [
    {
     "name": "stdout",
     "output_type": "stream",
     "text": [
      "Acceleration Histogram\n"
     ]
    },
    {
     "data": {
      "image/png": "[encoded data removed]",
      "text/plain": [
       "<Figure size 432x288 with 1 Axes>"
      ]
     },
     "metadata": {},
     "output_type": "display_data"
    }
   ],
   "source": [
    "sns.distplot(df.iloc[:, 5].values)\n",
    "print('Acceleration Histogram')"
   ]
  },
  {
   "cell_type": "code",
   "execution_count": 16,
   "metadata": {},
   "outputs": [
    {
     "name": "stdout",
     "output_type": "stream",
     "text": [
      "Model Year Histogram\n"
     ]
    },
    {
     "data": {
      "image/png": "[encoded data removed]",
      "text/plain": [
       "<Figure size 432x288 with 1 Axes>"
      ]
     },
     "metadata": {},
     "output_type": "display_data"
    }
   ],
   "source": [
    "sns.distplot(df.iloc[:, 6].values)\n",
    "print('Model Year Histogram')"
   ]
  },
  {
   "cell_type": "code",
   "execution_count": 17,
   "metadata": {},
   "outputs": [
    {
     "name": "stdout",
     "output_type": "stream",
     "text": [
      "Origin Histogram\n"
     ]
    },
    {
     "data": {
      "image/png": "[encoded data removed]",
      "text/plain": [
       "<Figure size 432x288 with 1 Axes>"
      ]
     },
     "metadata": {},
     "output_type": "display_data"
    }
   ],
   "source": [
    "sns.distplot(df.iloc[:, 7].values)\n",
    "print('Origin Histogram')"
   ]
  },
  {
   "cell_type": "markdown",
   "metadata": {},
   "source": [
    "### Predikcija koristeći sve nezavisne promenjive sem poslednje - naziv automobila"
   ]
  },
  {
   "cell_type": "code",
   "execution_count": 18,
   "metadata": {},
   "outputs": [
    {
     "data": {
      "text/plain": [
       "Index(['mpg', 'cylinders', 'displacement', 'horsepower', 'weight',\n",
       "       'acceleration', 'model year', 'origin', 'car name'],\n",
       "      dtype='object')"
      ]
     },
     "execution_count": 18,
     "metadata": {},
     "output_type": "execute_result"
    }
   ],
   "source": [
    "import stats\n",
    "from sklearn.metrics import explained_variance_score\n",
    "from sklearn.metrics import mean_absolute_error\n",
    "from sklearn.model_selection import train_test_split\n",
    "\n",
    "X = df.iloc[:, 1 : 8].values.astype('float64')\n",
    "y = df.iloc[:, 0].values.astype('float64')\n",
    "\n",
    "df.columns"
   ]
  },
  {
   "cell_type": "code",
   "execution_count": 19,
   "metadata": {},
   "outputs": [
    {
     "name": "stdout",
     "output_type": "stream",
     "text": [
      "Correlation between Y and X1 is -0.7776175081260218\n",
      "Correlation between Y and X2 is -0.8051269467104581\n",
      "Correlation between Y and X3 is -0.7784267838977751\n",
      "Correlation between Y and X4 is -0.8322442148315757\n",
      "Correlation between Y and X5 is 0.4233285369027873\n",
      "Correlation between Y and X6 is 0.580540966090785\n",
      "Correlation between Y and X7 is 0.5652087567164613\n"
     ]
    }
   ],
   "source": [
    "for i in range(0, X.shape[1]):\n",
    "    print('Correlation between Y and X{} is {}'.format(i+1,\n",
    "          stats.get_pearson_corr(y.tolist(), X[:, i].tolist())))"
   ]
  },
  {
   "cell_type": "code",
   "execution_count": 20,
   "metadata": {},
   "outputs": [],
   "source": [
    "X, y = stats.standardize(X, y)\n",
    "X_train, X_test, y_train, y_test = train_test_split(X, y, test_size=0.3, random_state=42)"
   ]
  },
  {
   "cell_type": "code",
   "execution_count": 21,
   "metadata": {},
   "outputs": [],
   "source": [
    "from linear_model import LinearRegression, Ridge, Lasso, ElasticNet\n",
    "\n",
    "models = []\n",
    "models.append(('LinearRegression', LinearRegression()))\n",
    "models.append(('Ridge', Ridge()))\n",
    "models.append(('Lasso', Lasso()))\n",
    "models.append(('ElasticNet', ElasticNet()))"
   ]
  },
  {
   "cell_type": "code",
   "execution_count": 22,
   "metadata": {},
   "outputs": [
    {
     "name": "stdout",
     "output_type": "stream",
     "text": [
      "LinearRegression => EVS: 0.8137427516623791 MAE: 0.30964832158846334 R^2: 0.8118881423003085\n",
      "Ridge => EVS: 0.7867401491718748 MAE: 0.3289504822276145 R^2: 0.7827038041355148\n",
      "Lasso => EVS: 0.8155975824040702 MAE: 0.30847338238352445 R^2: 0.8130717161135219\n",
      "ElasticNet => EVS: 0.7866625574326389 MAE: 0.32912752973707865 R^2: 0.7826095874309312\n"
     ]
    }
   ],
   "source": [
    "for name, model in models:\n",
    "    model.fit(X_train, y_train, X_test, y_test)\n",
    "    predictions = model.predict()\n",
    "    \n",
    "    r_sqared = stats.get_r_squared(y_test, predictions)\n",
    "    score = explained_variance_score(y_test, predictions)\n",
    "    mae = mean_absolute_error(predictions, y_test)\n",
    "    \n",
    "    msg = \"{} => EVS: {} MAE: {} R^2: {}\".format(name, score, mae, r_sqared)\n",
    "    print(msg)"
   ]
  },
  {
   "cell_type": "markdown",
   "metadata": {},
   "source": [
    "### Predikcija koristeći samo dve nezavisne promenjive - težina i godina proizvodnje\n",
    "Na ovom primeru vidi se da se postiže veća preciznost sa samo dve nezavisne promenljive, za razliku od prethodnog primera gde su korišćene sve nezavisne promenljive, osim naziva automobila"
   ]
  },
  {
   "cell_type": "code",
   "execution_count": 23,
   "metadata": {},
   "outputs": [
    {
     "name": "stdout",
     "output_type": "stream",
     "text": [
      "LinearRegression => EVS: 0.8168479801268531 MAE: 0.3151727109945979 R^2: 0.8150789318775375\n",
      "Ridge => EVS: 0.8129433082627084 MAE: 0.30506350356896544 R^2: 0.8111124366647706\n",
      "Lasso => EVS: 0.8241103608021633 MAE: 0.30482051350375394 R^2: 0.8221384067005659\n",
      "ElasticNet => EVS: 0.8131265417767104 MAE: 0.3046368490788623 R^2: 0.8112747841787118\n"
     ]
    }
   ],
   "source": [
    "X = df.iloc[:, [4,6]].values.astype('float64')\n",
    "y = df.iloc[:, 0].values.astype('float64')\n",
    "\n",
    "X, y = stats.standardize(X, y)\n",
    "X_train, X_test, y_train, y_test = train_test_split(X, y, test_size=0.3, random_state=42)\n",
    "\n",
    "for name, model in models:\n",
    "    model.fit(X_train, y_train, X_test, y_test)\n",
    "    predictions = model.predict()\n",
    "    \n",
    "    r_sqared = stats.get_r_squared(y_test, predictions)\n",
    "    score = explained_variance_score(y_test, predictions)\n",
    "    mae = mean_absolute_error(predictions, y_test)\n",
    "    \n",
    "    msg = \"{} => EVS: {} MAE: {} R^2: {}\".format(name, score, mae, r_sqared)\n",
    "    print(msg)"
   ]
  },
  {
   "cell_type": "markdown",
   "metadata": {},
   "source": [
    "### Predikcija za automobile Americkih proizvođača"
   ]
  },
  {
   "cell_type": "code",
   "execution_count": 24,
   "metadata": {},
   "outputs": [],
   "source": [
    "usa = df.loc[df['origin'] == 1]"
   ]
  },
  {
   "cell_type": "code",
   "execution_count": 25,
   "metadata": {},
   "outputs": [
    {
     "name": "stdout",
     "output_type": "stream",
     "text": [
      "LinearRegression => EVS: 0.8831196284652548 MAE: 0.25063561320840566 R^2: 0.8825896017666394\n",
      "Ridge => EVS: 0.8301534298422119 MAE: 0.3129163541154436 R^2: 0.8293606768168369\n",
      "Lasso => EVS: 0.8600192977355251 MAE: 0.2757333476419057 R^2: 0.8597197906978131\n",
      "ElasticNet => EVS: 0.8304960588823865 MAE: 0.31264409796930664 R^2: 0.829712742556955\n"
     ]
    }
   ],
   "source": [
    "X = usa.iloc[:, 1 : 7].values.astype('float64')\n",
    "y = usa.iloc[:, 0].values.astype('float64')\n",
    "\n",
    "X, y = stats.standardize(X, y)\n",
    "X_train, X_test, y_train, y_test = train_test_split(X, y, test_size=0.3, random_state=42)\n",
    "\n",
    "for name, model in models:\n",
    "    model.fit(X_train, y_train, X_test, y_test)\n",
    "    predictions = model.predict()\n",
    "    \n",
    "    r_sqared = stats.get_r_squared(y_test, predictions)\n",
    "    score = explained_variance_score(y_test, predictions)\n",
    "    mae = mean_absolute_error(predictions, y_test)\n",
    "    \n",
    "    msg = \"{} => EVS: {} MAE: {} R^2: {}\".format(name, score, mae, r_sqared)\n",
    "    print(msg)"
   ]
  },
  {
   "cell_type": "markdown",
   "metadata": {},
   "source": [
    "Nakon podele dataseta na osnovu porekla automobila, vidimo da je za automobile proizvedene u Americi predikcija znatno bolja u poređenju sa predikcijom koja je izvšena nad celim datasetom."
   ]
  },
  {
   "cell_type": "markdown",
   "metadata": {},
   "source": [
    "### Predikcija za automobile Evropskih proizvođača"
   ]
  },
  {
   "cell_type": "code",
   "execution_count": 26,
   "metadata": {},
   "outputs": [],
   "source": [
    "europe = df.loc[df['origin'] == 2]"
   ]
  },
  {
   "cell_type": "code",
   "execution_count": 27,
   "metadata": {},
   "outputs": [
    {
     "name": "stdout",
     "output_type": "stream",
     "text": [
      "LinearRegression => EVS: 0.5098774688575416 MAE: 0.6233861518595981 R^2: 0.5082449437063821\n",
      "Ridge => EVS: 0.45323910997516825 MAE: 0.6217196117618976 R^2: 0.4508153742709565\n",
      "Lasso => EVS: 0.5359415593108378 MAE: 0.5950484134050624 R^2: 0.5348849516544679\n",
      "ElasticNet => EVS: 0.45443389475660345 MAE: 0.6211608402725434 R^2: 0.4520113773045502\n"
     ]
    }
   ],
   "source": [
    "X = europe.iloc[:, 1 : 7].values.astype('float64')\n",
    "y = europe.iloc[:, 0].values.astype('float64')\n",
    "\n",
    "X, y = stats.standardize(X, y)\n",
    "X_train, X_test, y_train, y_test = train_test_split(X, y, test_size=0.3, random_state=42)\n",
    "\n",
    "for name, model in models:\n",
    "    model.fit(X_train, y_train, X_test, y_test)\n",
    "    predictions = model.predict()\n",
    "    \n",
    "    r_sqared = stats.get_r_squared(y_test, predictions)\n",
    "    score = explained_variance_score(y_test, predictions)\n",
    "    mae = mean_absolute_error(predictions, y_test)\n",
    "    \n",
    "    msg = \"{} => EVS: {} MAE: {} R^2: {}\".format(name, score, mae, r_sqared)\n",
    "    print(msg)"
   ]
  },
  {
   "cell_type": "markdown",
   "metadata": {},
   "source": [
    "### Predikcija za automobile Azijskih proizvođača"
   ]
  },
  {
   "cell_type": "code",
   "execution_count": 28,
   "metadata": {},
   "outputs": [],
   "source": [
    "asia = df.loc[df['origin'] == 3]"
   ]
  },
  {
   "cell_type": "code",
   "execution_count": 29,
   "metadata": {},
   "outputs": [
    {
     "name": "stdout",
     "output_type": "stream",
     "text": [
      "LinearRegression => EVS: 0.5676383330883727 MAE: 0.474171672610692 R^2: 0.5676096725465458\n",
      "Ridge => EVS: 0.48146943660348496 MAE: 0.5681333649478454 R^2: 0.47967239260830485\n",
      "Lasso => EVS: 0.5195563926038635 MAE: 0.5246742002491428 R^2: 0.5195111447903389\n",
      "ElasticNet => EVS: 0.48207236808206433 MAE: 0.5679625766808122 R^2: 0.4803576678863991\n"
     ]
    }
   ],
   "source": [
    "X = asia.iloc[:, 1 : 7].values.astype('float64')\n",
    "y = asia.iloc[:, 0].values.astype('float64')\n",
    "\n",
    "X, y = stats.standardize(X, y)\n",
    "X_train, X_test, y_train, y_test = train_test_split(X, y, test_size=0.3, random_state=42)\n",
    "\n",
    "for name, model in models:\n",
    "    model.fit(X_train, y_train, X_test, y_test)\n",
    "    predictions = model.predict()\n",
    "    \n",
    "    r_sqared = stats.get_r_squared(y_test, predictions)\n",
    "    score = explained_variance_score(y_test, predictions)\n",
    "    mae = mean_absolute_error(predictions, y_test)\n",
    "    \n",
    "    msg = \"{} => EVS: {} MAE: {} R^2: {}\".format(name, score, mae, r_sqared)\n",
    "    print(msg)"
   ]
  },
  {
   "cell_type": "markdown",
   "metadata": {},
   "source": [
    "Prilikom predikcije za automobile proizvedene u Evropi i Aziji dobijaju se dosta lošiji rezultati, za razliku od automobila koji su proizvedeni u Americi."
   ]
  },
  {
   "cell_type": "markdown",
   "metadata": {},
   "source": [
    "### Analiza uticaja pojedinačnih atributa na predikciju"
   ]
  },
  {
   "cell_type": "code",
   "execution_count": 93,
   "metadata": {},
   "outputs": [],
   "source": [
    "X = df.iloc[:, 1 : 8].values.astype('float64')\n",
    "y = df.iloc[:, 0].values.astype('float64')\n",
    "\n",
    "X, y = stats.standardize(X, y)\n",
    "X_train, X_test, y_train, y_test = train_test_split(X, y, test_size=0.3, random_state=42)"
   ]
  },
  {
   "cell_type": "markdown",
   "metadata": {},
   "source": [
    "#### MPG - Cylinders"
   ]
  },
  {
   "cell_type": "code",
   "execution_count": 99,
   "metadata": {},
   "outputs": [],
   "source": [
    "X, y = stats.standardize(X, y)\n",
    "X_train, X_test, y_train, y_test = train_test_split(X[:, [0]], y, test_size=0.3, random_state=42)"
   ]
  },
  {
   "cell_type": "code",
   "execution_count": 100,
   "metadata": {},
   "outputs": [
    {
     "name": "stdout",
     "output_type": "stream",
     "text": [
      "LinearRegression => EVS: 0.5668336933462839 MAE: 0.4873278266011343 R^2: 0.5587622965963117\n",
      "Ridge => EVS: 0.556768608127677 MAE: 0.4967303770314546 R^2: 0.5500064945189098\n",
      "Lasso => EVS: 0.5722772516515707 MAE: 0.4843947491633811 R^2: 0.564435881685218\n",
      "ElasticNet => EVS: 0.5571106558861225 MAE: 0.49650916100954207 R^2: 0.5503414740400895\n"
     ]
    }
   ],
   "source": [
    "for name, model in models:\n",
    "    model.fit(X_train, y_train, X_test, y_test)\n",
    "    predictions = model.predict()\n",
    "    \n",
    "    r_sqared = stats.get_r_squared(y_test, predictions)\n",
    "    score = explained_variance_score(y_test, predictions)\n",
    "    mae = mean_absolute_error(predictions, y_test)\n",
    "    \n",
    "    msg = \"{} => EVS: {} MAE: {} R^2: {}\".format(name, score, mae, r_sqared)\n",
    "    print(msg)"
   ]
  },
  {
   "cell_type": "markdown",
   "metadata": {},
   "source": [
    "#### MPG - Displacement"
   ]
  },
  {
   "cell_type": "code",
   "execution_count": 101,
   "metadata": {},
   "outputs": [
    {
     "name": "stdout",
     "output_type": "stream",
     "text": [
      "LinearRegression => EVS: 0.6037855321212592 MAE: 0.4834732835407762 R^2: 0.5921166112880015\n",
      "Ridge => EVS: 0.6059931744546936 MAE: 0.46286713021791176 R^2: 0.596899982641425\n",
      "Lasso => EVS: 0.6124941137459282 MAE: 0.47362460989295585 R^2: 0.6012657119709192\n",
      "ElasticNet => EVS: 0.6063395766171025 MAE: 0.4627108275501431 R^2: 0.5972321423304776\n"
     ]
    }
   ],
   "source": [
    "X_train, X_test, y_train, y_test = train_test_split(X[:, [1]], y, test_size=0.3, random_state=42)\n",
    "\n",
    "for name, model in models:\n",
    "    model.fit(X_train, y_train, X_test, y_test)\n",
    "    predictions = model.predict()\n",
    "    \n",
    "    r_sqared = stats.get_r_squared(y_test, predictions)\n",
    "    score = explained_variance_score(y_test, predictions)\n",
    "    mae = mean_absolute_error(predictions, y_test)\n",
    "    \n",
    "    msg = \"{} => EVS: {} MAE: {} R^2: {}\".format(name, score, mae, r_sqared)\n",
    "    print(msg)"
   ]
  },
  {
   "cell_type": "markdown",
   "metadata": {},
   "source": [
    "#### MPG - Horsepower"
   ]
  },
  {
   "cell_type": "code",
   "execution_count": 102,
   "metadata": {},
   "outputs": [
    {
     "name": "stdout",
     "output_type": "stream",
     "text": [
      "LinearRegression => EVS: 0.5501152881660701 MAE: 0.5095248964223429 R^2: 0.5432002403224392\n",
      "Ridge => EVS: 0.5602514558209142 MAE: 0.5059906030722556 R^2: 0.554293546067977\n",
      "Lasso => EVS: 0.5601166099409894 MAE: 0.5044721261317947 R^2: 0.5533668083468992\n",
      "ElasticNet => EVS: 0.5605318448221897 MAE: 0.5058721368251348 R^2: 0.5545686701534762\n"
     ]
    }
   ],
   "source": [
    "X_train, X_test, y_train, y_test = train_test_split(X[:, [2]], y, test_size=0.3, random_state=42)\n",
    "\n",
    "for name, model in models:\n",
    "    model.fit(X_train, y_train, X_test, y_test)\n",
    "    predictions = model.predict()\n",
    "    \n",
    "    r_sqared = stats.get_r_squared(y_test, predictions)\n",
    "    score = explained_variance_score(y_test, predictions)\n",
    "    mae = mean_absolute_error(predictions, y_test)\n",
    "    \n",
    "    msg = \"{} => EVS: {} MAE: {} R^2: {}\".format(name, score, mae, r_sqared)\n",
    "    print(msg)"
   ]
  },
  {
   "cell_type": "markdown",
   "metadata": {},
   "source": [
    "#### MPG - Weight"
   ]
  },
  {
   "cell_type": "code",
   "execution_count": 103,
   "metadata": {},
   "outputs": [
    {
     "name": "stdout",
     "output_type": "stream",
     "text": [
      "LinearRegression => EVS: 0.6798480346210569 MAE: 0.4268334377967411 R^2: 0.672813752403141\n",
      "Ridge => EVS: 0.6762705980178317 MAE: 0.4089100713741052 R^2: 0.6702364097294837\n",
      "Lasso => EVS: 0.6883869090251569 MAE: 0.41743677803013185 R^2: 0.6815160971565098\n",
      "ElasticNet => EVS: 0.6767035066081235 MAE: 0.408624187321376 R^2: 0.6706634924367252\n"
     ]
    }
   ],
   "source": [
    "X_train, X_test, y_train, y_test = train_test_split(X[:, [3]], y, test_size=0.3, random_state=42)\n",
    "\n",
    "for name, model in models:\n",
    "    model.fit(X_train, y_train, X_test, y_test)\n",
    "    predictions = model.predict()\n",
    "    \n",
    "    r_sqared = stats.get_r_squared(y_test, predictions)\n",
    "    score = explained_variance_score(y_test, predictions)\n",
    "    mae = mean_absolute_error(predictions, y_test)\n",
    "    \n",
    "    msg = \"{} => EVS: {} MAE: {} R^2: {}\".format(name, score, mae, r_sqared)\n",
    "    print(msg)"
   ]
  },
  {
   "cell_type": "markdown",
   "metadata": {},
   "source": [
    "#### MPG - Acceleration"
   ]
  },
  {
   "cell_type": "code",
   "execution_count": 104,
   "metadata": {},
   "outputs": [
    {
     "name": "stdout",
     "output_type": "stream",
     "text": [
      "LinearRegression => EVS: 0.13520363432268268 MAE: 0.7161943929770985 R^2: 0.13047936255853188\n",
      "Ridge => EVS: 0.13562581784543715 MAE: 0.7242573266663124 R^2: 0.1311617432371276\n",
      "Lasso => EVS: 0.13785844667472624 MAE: 0.7171194013704604 R^2: 0.13321462173296805\n",
      "ElasticNet => EVS: 0.13559121134662977 MAE: 0.724297108383642 R^2: 0.13112790844911004\n"
     ]
    }
   ],
   "source": [
    "X_train, X_test, y_train, y_test = train_test_split(X[:, [4]], y, test_size=0.3, random_state=42)\n",
    "\n",
    "for name, model in models:\n",
    "    model.fit(X_train, y_train, X_test, y_test)\n",
    "    predictions = model.predict()\n",
    "    \n",
    "    r_sqared = stats.get_r_squared(y_test, predictions)\n",
    "    score = explained_variance_score(y_test, predictions)\n",
    "    mae = mean_absolute_error(predictions, y_test)\n",
    "    \n",
    "    msg = \"{} => EVS: {} MAE: {} R^2: {}\".format(name, score, mae, r_sqared)\n",
    "    print(msg)"
   ]
  },
  {
   "cell_type": "markdown",
   "metadata": {},
   "source": [
    "#### MPG - Model Year"
   ]
  },
  {
   "cell_type": "code",
   "execution_count": 105,
   "metadata": {},
   "outputs": [
    {
     "name": "stdout",
     "output_type": "stream",
     "text": [
      "LinearRegression => EVS: 0.33778607294684315 MAE: 0.6483234641646715 R^2: 0.33777103535545605\n",
      "Ridge => EVS: 0.3343693028854601 MAE: 0.6593407737219323 R^2: 0.3341734815344114\n",
      "Lasso => EVS: 0.3429629649609607 MAE: 0.6496030463599737 R^2: 0.3429629261515388\n",
      "ElasticNet => EVS: 0.33421581625073815 MAE: 0.659397230945727 R^2: 0.3340179364288579\n"
     ]
    }
   ],
   "source": [
    "X_train, X_test, y_train, y_test = train_test_split(X[:, [5]], y, test_size=0.3, random_state=42)\n",
    "\n",
    "for name, model in models:\n",
    "    model.fit(X_train, y_train, X_test, y_test)\n",
    "    predictions = model.predict()\n",
    "    \n",
    "    r_sqared = stats.get_r_squared(y_test, predictions)\n",
    "    score = explained_variance_score(y_test, predictions)\n",
    "    mae = mean_absolute_error(predictions, y_test)\n",
    "    \n",
    "    msg = \"{} => EVS: {} MAE: {} R^2: {}\".format(name, score, mae, r_sqared)\n",
    "    print(msg)"
   ]
  },
  {
   "cell_type": "markdown",
   "metadata": {},
   "source": [
    "#### MPG - Origin"
   ]
  },
  {
   "cell_type": "code",
   "execution_count": 106,
   "metadata": {},
   "outputs": [
    {
     "name": "stdout",
     "output_type": "stream",
     "text": [
      "LinearRegression => EVS: 0.301376990108265 MAE: 0.6168745306970007 R^2: 0.2937710085485874\n",
      "Ridge => EVS: 0.2929112562453796 MAE: 0.6352353210210604 R^2: 0.2864536220355096\n",
      "Lasso => EVS: 0.3039380913936045 MAE: 0.6207775885320207 R^2: 0.2966089695413723\n",
      "ElasticNet => EVS: 0.2927753074352526 MAE: 0.6353354841491907 R^2: 0.28632208751649\n"
     ]
    }
   ],
   "source": [
    "X_train, X_test, y_train, y_test = train_test_split(X[:, [6]], y, test_size=0.3, random_state=42)\n",
    "\n",
    "for name, model in models:\n",
    "    model.fit(X_train, y_train, X_test, y_test)\n",
    "    predictions = model.predict()\n",
    "    \n",
    "    r_sqared = stats.get_r_squared(y_test, predictions)\n",
    "    score = explained_variance_score(y_test, predictions)\n",
    "    mae = mean_absolute_error(predictions, y_test)\n",
    "    \n",
    "    msg = \"{} => EVS: {} MAE: {} R^2: {}\".format(name, score, mae, r_sqared)\n",
    "    print(msg)"
   ]
  },
  {
   "cell_type": "markdown",
   "metadata": {},
   "source": [
    "Iz prethodnih analize, vidi se da atribut koji ima najviše uticaja na MPG je težina automobila, zatim prenos, i posle toga broj konjskih snaga i broj cilindara otrpilike podjednako utiču na predikciju"
   ]
  },
  {
   "cell_type": "markdown",
   "metadata": {},
   "source": [
    "### Boosting Algoritmi"
   ]
  },
  {
   "cell_type": "code",
   "execution_count": null,
   "metadata": {},
   "outputs": [],
   "source": []
  },
  {
   "cell_type": "code",
   "execution_count": null,
   "metadata": {},
   "outputs": [],
   "source": []
  },
  {
   "cell_type": "code",
   "execution_count": null,
   "metadata": {},
   "outputs": [],
   "source": []
  },
  {
   "cell_type": "code",
   "execution_count": null,
   "metadata": {},
   "outputs": [],
   "source": []
  }
 ],
 "metadata": {
  "kernelspec": {
   "display_name": "Python 3",
   "language": "python",
   "name": "python3"
  },
  "language_info": {
   "codemirror_mode": {
    "name": "ipython",
    "version": 3
   },
   "file_extension": ".py",
   "mimetype": "text/x-python",
   "name": "python",
   "nbconvert_exporter": "python",
   "pygments_lexer": "ipython3",
   "version": "3.5.5"
  }
 },
 "nbformat": 4,
 "nbformat_minor": 2
}
